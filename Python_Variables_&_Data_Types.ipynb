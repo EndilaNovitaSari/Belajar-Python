{
  "nbformat": 4,
  "nbformat_minor": 0,
  "metadata": {
    "colab": {
      "name": "Python Variables & Data Types",
      "provenance": [],
      "authorship_tag": "ABX9TyPkJp/LCc7sBVqg0eK3zzvW"
    },
    "kernelspec": {
      "name": "python3",
      "display_name": "Python 3"
    },
    "language_info": {
      "name": "python"
    }
  },
  "cells": [
    {
      "cell_type": "markdown",
      "source": [
        "##Python Variables\n",
        "Tips:\n",
        "\n",
        "Dalam mendeklarasikan sebuah variabel, berilah nama yang mewakili isi dari variabel tersebut. Sebagai contoh :"
      ],
      "metadata": {
        "id": "WZLIGfxhD-Gz"
      }
    },
    {
      "cell_type": "code",
      "source": [
        "x = 5\n",
        "#usahakan memberi nama yang lebih bermakna terkait dengan pengguna sebuah variabel, seperti:\n",
        "angka1 = 7"
      ],
      "metadata": {
        "id": "6HYF2_VGE9VM"
      },
      "execution_count": null,
      "outputs": []
    },
    {
      "cell_type": "markdown",
      "source": [
        "## Aturan Penamaan Python Variables\n",
        "Penamaan suatu variabel pada python dapat dikatakan valid selama memenuhi aturan-aturan berikut:\n",
        "1.\tNama dari sebuah variabel harus dimulai dengan huruf (a-z, A-Z) atau karakter garis bawah underscore (_) dan tidak dapat dimulai dengan angka (0-9).\n",
        "2.\tVariabel hanya boleh mengandung karakter alfabet, bilangan dan underscore (a-z, A-Z, 0-9, _)\n",
        "3.\tVariabel bersifat case-sensitive yang mengartikan bahwa variabel TINGGI, tinggi, dan Tinggi merujuk pada tiga variabel berbeda.\n",
        "Selain dapat mendeklarasikan nilai dari suatu variabel secara baris per baris, juga dapat mendeklarasikan beberapa variabel dalam satu baris dengan menggunakan ekspresi seperti:"
      ],
      "metadata": {
        "id": "w2oKrV25EZ6w"
      }
    },
    {
      "cell_type": "code",
      "source": [
        "bil1,  bil2 = 3, 4\n",
        "good_morning = \"Selamat Pagi!\", good_night = \"Selamat Tidur!\""
      ],
      "metadata": {
        "id": "4IFQtIHMGM-4"
      },
      "execution_count": null,
      "outputs": []
    },
    {
      "cell_type": "markdown",
      "source": [
        "##Tipe Data Dasar: Null, Boolean, Numeric dan Text\n",
        "1. Null Type: Tipe data null dalam Python digunakan untuk menyimpan nilai kosong atau tidak ada yang dinyatakan dengan None.\n",
        "2. Boolean Type: Tipe data boolean atau bool digunakan untuk menyimpan nilai kebenaran (True, False) dari suatu ekspresi logika.\n",
        "3. Numeric Type: Tipe data yang digunakan untuk menyimpan data berupa angka. Terdapat dua macam tipe data numeric, yaitu int untuk menyimpan bilangan bulat (e.g.: 0, 1, 2, 404, -500, -1000) dan float untuk menyimpan bilangan riil (e.g.: 0.5, 1.01, 2.05, 4.04)\n",
        "4. Text Type: Pada Python, tipe data string (str) digunakan untuk menyimpan data teks. Tipe data string dimulai dengan tanda kutip (baik kutip satu/ dua) dan diakhir dengan tanda kutip. Contoh: \"Teks\" dan 'Teks pada Python'.\n"
      ],
      "metadata": {
        "id": "EVUgt-wcEdN9"
      }
    },
    {
      "cell_type": "markdown",
      "source": [
        "##Sequence Type – List [ ]\n",
        "Tipe data ini digunakan untuk menampung sekumpulan data secara terorganisir.\n",
        "Bentuk dari tipe data sequence ini adalah List dan Tuple.\n",
        "Tipe data list diawali dengan tanda kurung siku buka ( [ ), memisahkan setiap elemen di dalamnya dengan tanda koma ( , ) dan ditutup dengan kurung siku tutup ( ] ). Sebagai contoh:\n"
      ],
      "metadata": {
        "id": "Oqpc5yg0HUAJ"
      }
    },
    {
      "cell_type": "code",
      "source": [
        "contoh_list = [1,'dua',3,4.0,5]"
      ],
      "metadata": {
        "id": "DcdcJjmUHrSq"
      },
      "execution_count": null,
      "outputs": []
    },
    {
      "cell_type": "markdown",
      "source": [
        "Setiap elemen dari list memiliki indeks yang dimulai dari angka 0 dan terus bertambah satu nilainya hingga elemen terakhir dari list. Sebagai contoh:"
      ],
      "metadata": {
        "id": "gpnEsiuKHssZ"
      }
    },
    {
      "cell_type": "code",
      "source": [
        "contoh_list = [1,'dua',3,4.0,5]\n",
        "print(contoh_list[0]) #akan menghasilkan output 1\n",
        "print(contoh_list[3]) #akan menghasilkan output 3"
      ],
      "metadata": {
        "id": "vvSF0XyTHy7S"
      },
      "execution_count": null,
      "outputs": []
    },
    {
      "cell_type": "markdown",
      "source": [
        "Tipe data list bersifat mutable yang berarti setiap elemen di dalam list dapat dirubah nilainya setelah proses pendeklarasian list. Sebagai contoh:"
      ],
      "metadata": {
        "id": "j3rXS1NLIcVB"
      }
    },
    {
      "cell_type": "code",
      "source": [
        "contoh_list = [1,'dua',3,4.0,5]\n",
        "contoh_list[3] = 'lima'\n",
        "print(contoh_list[3])"
      ],
      "metadata": {
        "id": "7n4mIz6KIdr5"
      },
      "execution_count": null,
      "outputs": []
    },
    {
      "cell_type": "markdown",
      "source": [
        "##Sequence Type – Tuple ( )\n",
        "Tipe data tuple juga berfungsi untuk menampung sekumpulan data. Tipe data ini diawali dengan tanda kurung buka ( ( ), memisahkan setiap elemen di dalamnya dengan tanda koma ( , ) dan ditutup dengan tanda kurung tutup ( ) ). Sebagai contoh:\n"
      ],
      "metadata": {
        "id": "nrFKgiIKJBjL"
      }
    },
    {
      "cell_type": "code",
      "source": [
        "contoh_tuple = ('Januari','Februari','Maret','April')"
      ],
      "metadata": {
        "id": "sBshD8CWJYqg"
      },
      "execution_count": null,
      "outputs": []
    },
    {
      "cell_type": "markdown",
      "source": [
        "Aturan indeks dan cara mengakses elemen pada sebuah tuple serupa dengan list. Sebagai contoh:"
      ],
      "metadata": {
        "id": "R7_ZJaDgJmy5"
      }
    },
    {
      "cell_type": "code",
      "source": [
        "contoh_tuple = ('Januari','Februari','Maret','April')\n",
        "print(contoh_tuple[0])"
      ],
      "metadata": {
        "id": "jVsboQ6-Jr28"
      },
      "execution_count": null,
      "outputs": []
    },
    {
      "cell_type": "markdown",
      "source": [
        "Berbeda dengan tipe data list, tipe data tuple bersifat immutable yang berarti elemen pada tipe data tuple tidak dapat diubah setelah proses pendeklarasiannya.\n",
        "\n",
        "Pada saat aku mengubah elemen pada tuple seperti pada kode berikut:"
      ],
      "metadata": {
        "id": "8ozHAjFZJ_ms"
      }
    },
    {
      "cell_type": "code",
      "source": [
        "contoh_tuple = ('Januari','Februari','Maret','April')\n",
        "print(contoh_tuple[0]) = 'November'\n",
        "print(contoh_tuple[0])"
      ],
      "metadata": {
        "id": "40V98wK8KHCA"
      },
      "execution_count": null,
      "outputs": []
    },
    {
      "cell_type": "markdown",
      "source": [
        "##Set Type { }\n",
        "Serupa dengan tipe data sequence, tipe data set digunakan untuk menampung sekumpulan data dengan tipe lainnya. Terdapat dua jenis dari tipe data set yaitu, set dan frozenset.\n",
        "Tipe data set diawali dengan tanda kurung buka kurawal ( { ), memisahkan setiap elemen di dalamnya dengan tanda koma ( , ) dan ditutup dengan tanda kurung tutup ( } ). \n",
        "Namun berbeda dengan tipe data sequence, seperti list, tipe data objek tidak mengizinkan adanya elemen dengan nilai yang sama dan tidak memperdulikan urutan dari elemen.\n"
      ],
      "metadata": {
        "id": "Eax7KkckKX-k"
      }
    },
    {
      "cell_type": "code",
      "source": [
        "contoh_list = ['Dewi','Budi','Cici','Linda','Cici']\n",
        "print(contoh_list)"
      ],
      "metadata": {
        "id": "1lV4J4ykK7W1"
      },
      "execution_count": null,
      "outputs": []
    },
    {
      "cell_type": "markdown",
      "source": [
        "sedangkan pada tipe data set:"
      ],
      "metadata": {
        "id": "0E9W7HSlLEZj"
      }
    },
    {
      "cell_type": "code",
      "source": [
        "contoh_set = {'Dewi','Budi','Cici','Linda','Cici'}\n",
        "print(contoh_set)"
      ],
      "metadata": {
        "id": "JB48szvjLHO3"
      },
      "execution_count": null,
      "outputs": []
    },
    {
      "cell_type": "markdown",
      "source": [
        "Dari kedua contoh output pada program, dapat terlihat:\n",
        "1.\tBerbeda dengan tipe data set, tipe data list memperdulikan urutan dari setiap elemen saat list dideklarasikan.\n",
        "2.\tBerbeda dengan list yang mengizinkan adanya duplikasi elemen, tipe data set tidak mengizinkan adanya elemen dengan nilai yang sama di dalamnya. "
      ],
      "metadata": {
        "id": "APwY6t7-LVSm"
      }
    },
    {
      "cell_type": "markdown",
      "source": [
        "Bagaimana dengan tipe data frozenset? Tipe data frozenset sebenarnya hanya merupakan set yang bersifat immutable, yang artinya setiap elemen di dalam frozenset tidak dapat diubah setelah proses deklarasinya. Untuk membuat tipe data frozenset, aku dapat merujuk potongan kode di bawah ini:"
      ],
      "metadata": {
        "id": "xIh0AjsQL2b8"
      }
    },
    {
      "cell_type": "code",
      "source": [
        "contoh_frozen_set = ({'Dewi','Budi','Cici','Linda','Cici'})\n",
        "print(contoh_frozen_set)"
      ],
      "metadata": {
        "id": "6OU5Wtx5L7GU"
      },
      "execution_count": null,
      "outputs": []
    },
    {
      "cell_type": "markdown",
      "source": [
        "##Mapping Type\n",
        "Tipe data mapping dapat digunakan untuk memetakan sebuah nilai ke nilai lainnya. Dalam Python, tipe data mapping disebut dengan istilah dictionary. Tipe data dictionary dapat dideklarasikan dengan diawali oleh tanda kurung buka kurawal ( { ), memisahkan setiap elemen di dalamnya dengan tanda koma ( , ) dan ditutup dengan tanda kurung tutup ( } ). Setiap elemen pada tipe data dictionary dideklarasikan dengan format:\n",
        "\"kunci\" : \"nilai\"\n",
        "\n",
        "Hal inilah yang membedakan tipe data mapping dengan tipe data set. Untuk lebih memperjelas tipe data mapping, aku mempelajari potongan kode berikut:"
      ],
      "metadata": {
        "id": "Jb9qTIoSMRCQ"
      }
    },
    {
      "cell_type": "code",
      "source": [
        "person = {'nama': 'John Doe', 'pekerjaan': 'Programmer'}"
      ],
      "metadata": {
        "id": "k8EGfc5KMx1A"
      },
      "execution_count": null,
      "outputs": []
    },
    {
      "cell_type": "markdown",
      "source": [
        "Potongan kode di atas adalah contoh pendeklarasian dari tipe data dictionary. Kemudian, bagaimana dengan cara mengakses informasi dari tipe data ini?"
      ],
      "metadata": {
        "id": "chSHvrx2M_ML"
      }
    },
    {
      "cell_type": "code",
      "source": [
        "person = {'nama': 'John Doe', 'pekerjaan': 'Programmer'}\n",
        "print(person['nama'])\n",
        "print(person['pekerjaan'])"
      ],
      "metadata": {
        "id": "fooM2GwgNB4n"
      },
      "execution_count": null,
      "outputs": []
    },
    {
      "cell_type": "markdown",
      "source": [
        "Untuk mengakses elemen dari sebuah dictionary, hanya perlu menspesifikasikan kata kunci yang terdapat dalam dictionary tersebut."
      ],
      "metadata": {
        "id": "SkcmEl0FNIN3"
      }
    },
    {
      "cell_type": "markdown",
      "source": [
        "Link Tabel:\n",
        "https://docs.google.com/spreadsheets/d/1lkGisJcbmZHWgqRlbG6pdqNYV1ZBYh51_yPtGQwwLMs/edit?usp=sharing"
      ],
      "metadata": {
        "id": "nHI0uhSyPVpy"
      }
    },
    {
      "cell_type": "code",
      "source": [
        "#merepresentasikan semuanya ke tipe data dictionary\n",
        "sepatu = {\"nama\": \"Sepatu Niko\", \"harga\": 150000, \"diskon\": 30000 }\n",
        "baju = {\"nama\": \"Baju Unikloh\", \"harga\": 80000, \"diskon\": 8000}\n",
        "Celana = {\"nama\": \"Celana Lepis\", \"harga\": 200000, \"diskon\": 60000}"
      ],
      "metadata": {
        "id": "JrdZq1_kNjNq"
      },
      "execution_count": null,
      "outputs": []
    },
    {
      "cell_type": "code",
      "source": [
        "#mendeklarasikan list dengan nama daftar_belanja yang berisi data sepatu, baju, dan celana\n",
        "sepatu = {\"nama\": \"Sepatu Niko\", \"harga\": 150000, \"diskon\": 30000} \n",
        "baju = {\"nama\": \"Baju Unikloh\", \"harga\": 80000, \"diskon\": 8000} \n",
        "celana = {\"nama\": \"Celana Lepis\", \"harga\": 200000, \"diskon\": 60000} \n",
        "daftar_belanja = [sepatu, baju, celana]"
      ],
      "metadata": {
        "id": "m27XfooAPoAw"
      },
      "execution_count": null,
      "outputs": []
    },
    {
      "cell_type": "markdown",
      "source": [
        "Menghitung total harga jual dengan potongan harga beserta pajak sebesar 10% dari nilai jual.\n",
        "\n",
        "Untungnya Senja memberikan beberapa tips untuk menyelesaikan tugas ini:\n",
        "1.\tTips 1. # Data yang dinyatakan ke dalam dictionary\n",
        "2.\tTips 2. # Hitung harga masing-masing data setelah dikurangi diskon\n",
        "3.\tTips 3. # Hitung harga total\n",
        "4.\tTips 4. # Hitung harga kena pajak\n",
        "5.\tTips 5. # Cetak total_harga + total_pajak\n"
      ],
      "metadata": {
        "id": "RLquAPLlP49P"
      }
    },
    {
      "cell_type": "code",
      "source": [
        "# Data yang dinyatakan ke dalam dictionary\n",
        "sepatu = {\"nama\": \"Sepatu Niko\", \"harga\": 150000, \"diskon\": 30000} \n",
        "baju = {\"nama\": \"Baju Unikloh\", \"harga\": 80000, \"diskon\": 8000} \n",
        "celana = {\"nama\": \"Celana Lepis\", \"harga\": 200000, \"diskon\": 60000}\n",
        "# Hitunglah harga masing-masing data setelah dikurangi diskon\n",
        "harga_sepatu = sepatu[\"harga\"] - sepatu[\"diskon\"] \n",
        "harga_baju = baju[\"harga\"] - baju[\"diskon\"]\n",
        "harga_celana = celana[\"harga\"] - celana[\"diskon\"]\n",
        "# Hitung harga total\n",
        "total_harga = harga_sepatu + harga_baju + harga_celana\n",
        "# Hitung harga kena pajak\n",
        "total_pajak = total_harga * 0.1\n",
        "# Cetak total_harga + total_pajak\n",
        "print(total_harga + total_pajak)"
      ],
      "metadata": {
        "id": "zBjf_3mMQFk6"
      },
      "execution_count": null,
      "outputs": []
    }
  ]
}