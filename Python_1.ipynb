{
  "nbformat": 4,
  "nbformat_minor": 0,
  "metadata": {
    "colab": {
      "name": "Python_1",
      "provenance": [],
      "collapsed_sections": [],
      "authorship_tag": "ABX9TyO7T3GTfgddHCrHc/0qX05D"
    },
    "kernelspec": {
      "name": "python3",
      "display_name": "Python 3"
    },
    "language_info": {
      "name": "python"
    }
  },
  "cells": [
    {
      "cell_type": "markdown",
      "source": [
        "##**Pengenalan dan Alasan Penggunaan Python**\n",
        "1. Bahasa pemrograman yang ditujukan untuk general-purpose programming dan termasuk dalam kategori **high-level programming language**.\n",
        "2. Python digunakan untuk berbagai macam permasalahan seperti: **pengembangan aplikasi web** ataupun **mobile**, **data science**, dll.\n",
        "3. High-level programming language dikarenakan bahasa pemrograman Python yang mudah untuk dibaca dan dituliskan oleh manusia.\n",
        "4. Bahasa  pemrograman  Python  diciptakan  oleh Guido van Rossum dan pertama kali diperkenalkan pada tahun 1991 sebagai sebuah proyek open-source.\n",
        "5. Sifat open-source dari Python mengartikan bahwa setiap orang dapat mengembangkan program komputer dengan menggunakan bahasa pemrograman Python baik untuk tujuan komersil/non-komersil.\n",
        "6. Bahasa pemrograman Python bersifat dynamically typed (Python akan secara otomatis mengubah masukan dari pengguna) dan mendukung berbagai paradigma pemrograman baik pemrograman secara prosedural, berbasis objek (Object-Oriented), ataupun fungsional.\n",
        "7. Python dikembangkan untuk bersifat extendible yang mengartikan bahwa Python dapat dikembangkan untuk berbagai macam tugas baik untuk pembuatan aplikasi web ataupun desktop, proses analisis data, dll.\n",
        "8. Python memiliki komunitas yang besar yang secara aktif berkontribusi untuk menyediakan berbagai macam fungsionalitas (third-party libraries).\n",
        "9. Third-party libraries yang tersedia dalam bahasa pemrograman Python memungkinkan para pengembang untuk dapat fokus menyelesaikan permasalahan yang ada. \n",
        "10. Per Januari 2020, terdapat 214,922 modul third-party yang dapat kita gunakan secara cuma-cuma.\n",
        "11. Python terintegrasi dengan baik dengan berbagai macam bahasa pemrograman dan layanan enterprise. \n",
        "12. Untuk bagian-bagian yang melibatkan sumber daya komputasi yang besar, pengembang dapat menggunakan fungsionalitas dalam bahasa pemrograman lainnya yang bersifat low-level yang telah dikemas ke dalam fungsionalitas Python.\n"
      ],
      "metadata": {
        "id": "bLQ22W3Al1d1"
      }
    },
    {
      "cell_type": "code",
      "source": [
        "#Python memiliki fungsi print() yang berguna untuk menampilkan pesan ke layar pengguna.\n",
        "print('Hello World!')"
      ],
      "metadata": {
        "id": "8ncS46E_oc9N"
      },
      "execution_count": null,
      "outputs": []
    },
    {
      "cell_type": "markdown",
      "source": [
        "##**Struktur Program Python** \n",
        "1. Statements: Instruksi yang diberikan secara baris per baris untuk dijalankan oleh mesin.\n",
        "2. Variables: Lokasi penyimpanan yang dapat digunakan untuk menampung sebuah data atau informasi. Contoh: variabel yang bernama bilangan1, bilangan2, dan kalimat1. \n",
        "Tips: Dalam mendeklarasikan sebuah variabel, berilah nama yang mewakili isi dari variabel tersebut, contoh: angka1 = 7\n",
        "3. Literals: Simbol-simbol yang dapat kita gunakan untuk mengisi suatu variabel. Pada kode yang telah dicontohkan di atas, angka 5 dan 10 serta 'Belajar Bahasa Python' disebut sebagai literal.\n",
        "4. Operators: Simbol-simbol yang dapat digunakan untuk mengubah nilai dari satu variabel dengan melibatkan satu atau lebih variabel dan literal. \n",
        "- Operator + berfungsi sebagai operator penambahan\n",
        "- Operator - berfungsi sebagai operator pengurangan\n",
        "- Operator * berfungsi sebagai operator perkalian\n",
        "- Operator ** untuk pemangkatan\n"
      ],
      "metadata": {
        "id": "Vq1oKuo-o1Or"
      }
    },
    {
      "cell_type": "code",
      "source": [
        "# Statement\n",
        "print(\"Belajar Python Menyenangkan\") \n",
        "print(\"Saya ingin menjadi seorang Data Science\")\n",
        "print(\"Hello World!\")\n",
        "# Variables & Literals\n",
        "bilangan1 = 5\n",
        "bilangan2 = 10\n",
        "kalimat1 = \"Belajar Python\"\n",
        "# Operators\n",
        "print(bilangan1 + bilangan2)"
      ],
      "metadata": {
        "id": "feTioAZ5OAnQ"
      },
      "execution_count": null,
      "outputs": []
    },
    {
      "cell_type": "markdown",
      "source": [
        "Contoh Soal:\n",
        "1. Hitung harga_setelah_potongan dan harga_final. harga_final diperoleh dengan mengalikan harga_setelah_potongan dengan angka 1.1 karena PPN sebesar 10% (100% + 10% = 110% atau 1.1)\n",
        "2. Gunakan variabel harga_asli dengan nilai 20.000 dan variabel potongan dengan nilai 2000.\n"
      ],
      "metadata": {
        "id": "_6JWnFZ_QfBQ"
      }
    },
    {
      "cell_type": "code",
      "source": [
        "# Jawaban\n",
        "# kalkulator sederhana untuk potongan harga dan pajak\n",
        "harga_asli = 20000\n",
        "potongan = 2000\n",
        "harga_setelah_potongan = harga_asli - potongan\n",
        "harga_final = harga_setelah_potongan * 1.1\n",
        "print(harga_final)"
      ],
      "metadata": {
        "id": "jGdtbOCwQKKs"
      },
      "execution_count": null,
      "outputs": []
    },
    {
      "cell_type": "markdown",
      "source": [
        "##Lanjutan Struktur Program Python \n",
        "1. Reserved Words: Kumpulan kata-kata yang memiliki makna khusus dalam bahasa pemrograman Python. Contoh: False, return, dan for.\n",
        "2. Whitespace: Pada bahasa Python, spasi dan tab memiliki makna khusus untuk menandai serangkaian blok dalam kode Python. Hal ini akan dijelaskan secara lebih lanjut pada bagian struktur pemilihan dan struktur pengulangan pada bahasa Python.\n",
        "3. Comments: Sekumpulan teks yang dituliskan di dalam sebuah program yang tidak akan mempengaruhi hasil dari sebuah program. Walaupun tidak mempengaruhi hasil program, comments merupakan salah satu komponen yang penting dalam pengembangan program. Hal tersebut dikarenakan comments dapat diselipkan di antara sekumpulan statements yang telah dituliskan, untuk berkomunikasi dengan rekan programmer lainnya dalam satu tim. \n",
        "Terdapat dua jenis comments di dalam Python, yaitu:\n",
        "a. single line comment (comments dalam satu baris)\n",
        "b. multi line comment (comments dalam beberapa baris)\n"
      ],
      "metadata": {
        "id": "j8iLk1dBRuGx"
      }
    },
    {
      "cell_type": "code",
      "source": [
        "# Contoh single line commnet\n",
        "#perintah pada baris ini tidak mempengaruhi program\n",
        "\n",
        "# Contoh multi line comment\n",
        "'''perintah pada baris pertama\n",
        "perintah pada baris kedua\n",
        "perintah pada baris ketiga'''"
      ],
      "metadata": {
        "id": "TPNl5i72SxnG"
      },
      "execution_count": null,
      "outputs": []
    },
    {
      "cell_type": "markdown",
      "source": [
        ""
      ],
      "metadata": {
        "id": "-roAw4-rjxAu"
      }
    }
  ]
}