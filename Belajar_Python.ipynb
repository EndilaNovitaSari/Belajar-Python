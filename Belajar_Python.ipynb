{
  "nbformat": 4,
  "nbformat_minor": 0,
  "metadata": {
    "colab": {
      "name": "Belajar Python",
      "provenance": [],
      "collapsed_sections": [],
      "authorship_tag": "ABX9TyMFoR6yf5gqtSkmSAWrmr43",
      "include_colab_link": true
    },
    "kernelspec": {
      "name": "python3",
      "display_name": "Python 3"
    },
    "language_info": {
      "name": "python"
    }
  },
  "cells": [
    {
      "cell_type": "markdown",
      "metadata": {
        "id": "view-in-github",
        "colab_type": "text"
      },
      "source": [
        "<a href=\"https://colab.research.google.com/github/EndilaNovitaSari/Belajar-Python/blob/main/Belajar_Python.ipynb\" target=\"_parent\"><img src=\"https://colab.research.google.com/assets/colab-badge.svg\" alt=\"Open In Colab\"/></a>"
      ]
    },
    {
      "cell_type": "code",
      "execution_count": null,
      "metadata": {
        "id": "YT6px5pTKgcD"
      },
      "outputs": [],
      "source": [
        ""
      ]
    },
    {
      "cell_type": "markdown",
      "source": [
        "#Belajar Python"
      ],
      "metadata": {
        "id": "RyuHmJJ7LXot"
      }
    },
    {
      "cell_type": "markdown",
      "source": [
        "##Day 1"
      ],
      "metadata": {
        "id": "glKb9hlILkzC"
      }
    },
    {
      "cell_type": "markdown",
      "source": [
        "1. Stackoverflow adalah kunci kalau ada error\n",
        "2. Rumus Python tidak perlu dihapal karena banyak perubahan\n",
        "3. Keyword tidak bisa digunakan sebagai variabel\n",
        "4. Kalau tidak paham errornya dimana, bisa mengetik:\n",
        "- Ex: help(\"lambda\"), kemudian run, maka akan muncul keterangan jawaban"
      ],
      "metadata": {
        "id": "iuWUk2boTP4r"
      }
    },
    {
      "cell_type": "code",
      "source": [
        "lambda = 12"
      ],
      "metadata": {
        "id": "tlYMJYEkVFWm"
      },
      "execution_count": null,
      "outputs": []
    },
    {
      "cell_type": "code",
      "source": [
        "help('lambda')"
      ],
      "metadata": {
        "id": "TdyXV6NxVMbP"
      },
      "execution_count": null,
      "outputs": []
    },
    {
      "cell_type": "markdown",
      "source": [
        "5. Kategori data yang sering digunakan: Numeric, Sequence, Mapping, Boolean\n",
        "6. Numerical (interger, float, dan complex) akan bernilai sama (True), jika memiliki value yang sama"
      ],
      "metadata": {
        "id": "yqsjB0lIWHZ1"
      }
    },
    {
      "cell_type": "code",
      "source": [
        "zero_int = 2\n",
        "zero_float = 2.0\n",
        "zero_complex = 2 + 2j\n",
        "print(zero_int == zero_float)\n",
        "print(zero_int == zero_complex)\n",
        "print(zero_float == zero_complex)"
      ],
      "metadata": {
        "id": "PJMHGKjXZQ1Z"
      },
      "execution_count": null,
      "outputs": []
    },
    {
      "cell_type": "markdown",
      "source": [
        "7. Cara mengetahui tipe data"
      ],
      "metadata": {
        "id": "ElMtDR5_aRWe"
      }
    },
    {
      "cell_type": "code",
      "source": [
        "print(type(zero_int))"
      ],
      "metadata": {
        "id": "fYNr5KULacbW"
      },
      "execution_count": null,
      "outputs": []
    },
    {
      "cell_type": "markdown",
      "source": [
        "8. Indexing,\n",
        "ex: anything"
      ],
      "metadata": {
        "id": "ozm9bVVvaozy"
      }
    },
    {
      "cell_type": "code",
      "source": [
        "#Indexing\n",
        "sequence_str = 'anything'\n",
        "print(sequence_str[2])\n",
        "print(sequence_str[-3])\n",
        "print(sequence_str[2] + sequence_str[-3] + sequence_str[5])"
      ],
      "metadata": {
        "id": "fduG9wOLcml4"
      },
      "execution_count": null,
      "outputs": []
    },
    {
      "cell_type": "markdown",
      "source": [
        "9. Slicing, ex: anything"
      ],
      "metadata": {
        "id": "Vlo0oEaCbFfo"
      }
    },
    {
      "cell_type": "code",
      "source": [
        "sequence_str = 'anything'\n",
        "print(sequence_str)\n",
        "print(sequence_str[1:]) #Start masuk, dari huruf kedua sampai terakhir\n",
        "print(sequence_str[:5]) #end gak masuk, dari awal sampai ke-5, yang kebaca hanya index 0-4\n",
        "print(sequence_str[:-1]) #dari awal sampai 2 terakhir\n",
        "print(sequence_str[2:5])\n",
        "print(sequence_str[2:-2]) #dari index huruf ke-2 sampai index huruf 2 terakhir "
      ],
      "metadata": {
        "id": "jpq1Egbmbc4s"
      },
      "execution_count": null,
      "outputs": []
    },
    {
      "cell_type": "markdown",
      "source": [
        "10. Dict: untuk mapping\n",
        "11. Penggunaan AND dan OR (saat mem-print) saat penggunaan function IF, ELIF, ELSE\n",
        "- AND (kedua kondisi harus benar)\n",
        "- OR (salah satu kondisi benar)\n",
        "12. Beda SPSS dan Python:\n",
        "- SPSS: lebih ke statistik, melakukan drag\n",
        "- Python: membuat code: invert variabel, pakai logikanya, bisa melakukan modeling machine learning, bisa melakukan visualisasi, bisa melakukan Function SPSS, seperti statistika\n",
        "13. Alasan Java tidak bisa dipakai untuk Data Science: Big Data lebih ke Python, ada konsep library logikanya. Sedangkan Java lebih ke web-development, tidak mendukung fucntion-nya\n",
        "14. Data Science dan Data Analyst (harus UPDATE): tools yang harus dikuasai adalah Python/R, karena mendukung semua semua FUNCTION yang dibutuhkan, dan juga SQL\n",
        "15. Beda list, tuple dan set; isinya memang sama bedanya di simbol kurung yang digunakan\n",
        "- List: [] \n",
        "- Tuple: () atau gak pakai kurung\n",
        "- Set: {}\n",
        "16. Beda visualisasi menggunakan Python dan Tableau atau Power BI\n",
        "- Python: harus coding dulu, panggil FUNCTION dulu\n",
        "- Tableau atau Power BI: hanya drag and drop\n",
        "\n",
        "\n"
      ],
      "metadata": {
        "id": "Gi-cezMHf5qz"
      }
    }
  ]
}